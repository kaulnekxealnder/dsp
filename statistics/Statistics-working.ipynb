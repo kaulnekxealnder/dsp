{
 "cells": [
  {
   "cell_type": "code",
   "execution_count": 1,
   "metadata": {
    "collapsed": true
   },
   "outputs": [],
   "source": [
    "import numpy as np\n",
    "import pandas as pd\n",
    "import matplotlib\n",
    "import thinkstats2\n",
    "import thinkplot\n",
    "import sys\n",
    "import os\n",
    "import re\n",
    "import collections\n",
    "import nsfg\n",
    "import math\n",
    "\n",
    "%matplotlib inline"
   ]
  },
  {
   "cell_type": "code",
   "execution_count": 2,
   "metadata": {},
   "outputs": [
    {
     "data": {
      "text/plain": [
       "'This is a Jupyter Notebook that will house the answers to the statistics section\\nfor Metis Datascience Prework on Statistics'"
      ]
     },
     "execution_count": 2,
     "metadata": {},
     "output_type": "execute_result"
    }
   ],
   "source": [
    "\"\"\"This is a Jupyter Notebook that will house the answers to the statistics section\n",
    "for Metis Datascience Prework on Statistics\"\"\""
   ]
  },
  {
   "cell_type": "code",
   "execution_count": 3,
   "metadata": {
    "collapsed": true
   },
   "outputs": [],
   "source": [
    "import first # this is module for the second chapter of the ThinkStats2 text"
   ]
  },
  {
   "cell_type": "code",
   "execution_count": 4,
   "metadata": {},
   "outputs": [
    {
     "name": "stdout",
     "output_type": "stream",
     "text": [
      "<class 'pandas.core.frame.DataFrame'>\n",
      "<class 'pandas.core.frame.DataFrame'>\n"
     ]
    }
   ],
   "source": [
    "preg = nsfg.ReadFemPreg() # assign var preg to be a ReadFemPreg obj which is a DF\n",
    "print(type(preg))\n",
    "live = preg[preg.outcome == 1] # 1 is live birth, 0 is still birth\n",
    "print(type(live))\n",
    "# preg.head()"
   ]
  },
  {
   "cell_type": "code",
   "execution_count": 5,
   "metadata": {
    "collapsed": true
   },
   "outputs": [],
   "source": [
    "# live.head() # this is a DataFrame object - can call index, values, or other df methods"
   ]
  },
  {
   "cell_type": "code",
   "execution_count": 6,
   "metadata": {
    "collapsed": true
   },
   "outputs": [],
   "source": [
    "firsts = live[live.birthord == 1]\n",
    "others = live[live.birthord != 1]"
   ]
  },
  {
   "cell_type": "code",
   "execution_count": 7,
   "metadata": {},
   "outputs": [
    {
     "data": {
      "text/plain": [
       "(7.201094430437772, 7.325855614973262, -0.12476118453549034)"
      ]
     },
     "execution_count": 7,
     "metadata": {},
     "output_type": "execute_result"
    }
   ],
   "source": [
    "# Exercise 2.4 Using the variable totalwgt_lb, investigate whether first ba- bies are \n",
    "# lighter or heavier than others. Compute Cohen’s d to quantify the difference between \n",
    "# the groups. How does it compare to the difference in pregnancy length?\n",
    "# we need to run first and other for prglngth and for totalwgt_lb - comparing these\n",
    "# We will run data for totalwgt_lb first\n",
    "first_weight = firsts.totalwgt_lb\n",
    "first_weight_mean = first_weight.mean()\n",
    "first_weight_var = first_weight.var()\n",
    "first_weight_std = first_weight.std()\n",
    "first_weight_obs = len(first_weight)\n",
    "other_weight = others.totalwgt_lb\n",
    "other_weight_mean = other_weight.mean()\n",
    "other_weight_var = other_weight.var()\n",
    "other_weight_std = other_weight.std()\n",
    "other_weight_obs = len(other_weight)\n",
    "first_weight_mean, other_weight_mean, (first_weight_mean - other_weight_mean)\n",
    "\n",
    "\n"
   ]
  },
  {
   "cell_type": "code",
   "execution_count": 8,
   "metadata": {
    "collapsed": true
   },
   "outputs": [],
   "source": [
    "def cohens(x, y): # function for cohensEffectSize\n",
    "    diff = (x.mean() - y.mean())\n",
    "    varx = x.var()\n",
    "    vary = y.var()\n",
    "    n1, n2 = len(x), len(y)\n",
    "    pooling_variance = (n1 * varx + n2 * vary)/(n1 + n2) # need pooled var for pooled stdev\n",
    "    cohen_diff = diff / math.sqrt(pooling_variance)\n",
    "    return cohen_diff"
   ]
  },
  {
   "cell_type": "code",
   "execution_count": 9,
   "metadata": {},
   "outputs": [
    {
     "data": {
      "text/plain": [
       "-0.088672927072602"
      ]
     },
     "execution_count": 9,
     "metadata": {},
     "output_type": "execute_result"
    }
   ],
   "source": [
    "cdiff = cohens(first_weight, other_weight)\n",
    "cohens(first_weight, other_weight)"
   ]
  },
  {
   "cell_type": "code",
   "execution_count": 10,
   "metadata": {},
   "outputs": [
    {
     "data": {
      "image/png": "[encoded data removed]",
      "text/plain": [
       "<matplotlib.figure.Figure at 0x107079ba8>"
      ]
     },
     "metadata": {},
     "output_type": "display_data"
    }
   ],
   "source": [
    "first_weight_hist = thinkstats2.Hist(first_weight, label='first born weight')\n",
    "other_weight_hist = thinkstats2.Hist(other_weight, label='other weight')\n",
    "\n",
    "thinkplot.PrePlot(2)\n",
    "thinkplot.Hist(first_weight_hist, align='right', width=0.45)\n",
    "thinkplot.Hist(other_weight_hist, align='left', width=0.45)\n",
    "thinkplot.Config(xlabel='weight (lbs)', ylabel='count', xlim=[1, 14]) # legen as a var doesn't work I guess\n"
   ]
  },
  {
   "cell_type": "code",
   "execution_count": null,
   "metadata": {
    "collapsed": true
   },
   "outputs": [],
   "source": []
  },
  {
   "cell_type": "code",
   "execution_count": 11,
   "metadata": {},
   "outputs": [
    {
     "data": {
      "text/plain": [
       "0.028879044654449883"
      ]
     },
     "execution_count": 11,
     "metadata": {},
     "output_type": "execute_result"
    }
   ],
   "source": [
    "# Now for prglngth\n",
    "first_length = firsts.prglngth\n",
    "others_length = others.prglngth\n",
    "cohens(first_length, others_length)"
   ]
  },
  {
   "cell_type": "code",
   "execution_count": 12,
   "metadata": {},
   "outputs": [
    {
     "data": {
      "text/plain": [
       "(38.60095173351461, 38.52291446673706, 0.07803726677754952)"
      ]
     },
     "execution_count": 12,
     "metadata": {},
     "output_type": "execute_result"
    }
   ],
   "source": [
    "first_length.mean(), others_length.mean(), (first_length.mean() - others_length.mean())"
   ]
  },
  {
   "cell_type": "code",
   "execution_count": 13,
   "metadata": {},
   "outputs": [
    {
     "data": {
      "image/png": "[encoded data removed]",
      "text/plain": [
       "<matplotlib.figure.Figure at 0x10709e208>"
      ]
     },
     "metadata": {},
     "output_type": "display_data"
    }
   ],
   "source": [
    "first_length_hist = thinkstats2.Hist(first_length, label='first born weeks prg')\n",
    "other_length_hist = thinkstats2.Hist(others_length, label='other weeks prg')\n",
    "\n",
    "thinkplot.PrePlot(2)\n",
    "thinkplot.Hist(first_length_hist, align='right', width=0.45)\n",
    "thinkplot.Hist(other_length_hist, align='left', width=0.45)\n",
    "thinkplot.Config(xlabel='length (weeks)', ylabel='count', xlim=[25, 46]) # legen as a var doesn't work I guess\n",
    "\n"
   ]
  },
  {
   "cell_type": "code",
   "execution_count": 75,
   "metadata": {},
   "outputs": [
    {
     "data": {
      "text/plain": [
       "'QUESTION 2.4: This is a question about size effect and the difference between groups.  From the data\\nit appears that with weight, the second baby tends to be about (converting .125 to oz) about\\n2 oz heavier than the first born child.  The cohen d, measuring the difference in means is\\nrounded -0.09 standard deviations, which seems quite small.  This matches the findings with\\nlength of pregnancy in that length differs by about .078 weeks so * 7 for days and * 24 for hours \\ngets about a 12.5 hour difference between first and second.  The cohen d is only .0288 \\nstandard deviations difference which is very small as well.'"
      ]
     },
     "execution_count": 75,
     "metadata": {},
     "output_type": "execute_result"
    }
   ],
   "source": [
    "\"\"\"QUESTION 2.4: This is a question about size effect and the difference between groups.  From the data\n",
    "it appears that with weight, the second baby tends to be about (converting .125 to oz) about\n",
    "2 oz heavier than the first born child.  The cohen d, measuring the difference in means is\n",
    "rounded -0.09 standard deviations, which seems quite small.  This matches the findings with\n",
    "length of pregnancy in that length differs by about .078 weeks so * 7 for days and * 24 for hours \n",
    "gets about a 12.5 hour difference between first and second.  The cohen d is only .0288 \n",
    "standard deviations difference which is very small as well.\"\"\""
   ]
  },
  {
   "cell_type": "code",
   "execution_count": 70,
   "metadata": {
    "collapsed": true
   },
   "outputs": [],
   "source": [
    "# This problem presents a robust example of actual vs biased data. As a data scientist, \n",
    "# it will be important to examine not only the data that is available, but also the data \n",
    "# that may be missing but highly relevant. You will see how the absence of this relevant \n",
    "# data will bias a dataset, its distribution, and ultimately, its statistical interpretation.\n",
    "# 3.1 Actual vs. Biased with number of children in a family.  Create an actual distribution\n",
    "# for number of children in a house under 18 with NSFG NUMKDHH variable.  Then compute the\n",
    "# biased distribution for the same group.  Plotting actual vs. biased distributions, and their\n",
    "# means."
   ]
  },
  {
   "cell_type": "code",
   "execution_count": 71,
   "metadata": {
    "collapsed": true
   },
   "outputs": [],
   "source": [
    "# create a function for a biased distribution, the PMF for the actual data set is our other\n",
    "# datapoint\n",
    "# utilizing thinkstats here...\n",
    "def biasedpmf(pmf, label):\n",
    "    new_pmf = pmf.Copy(label=label) # MAKE A COPY OF THE ACTUAL PMF\n",
    "    \n",
    "    for key, var in pmf.Items(): # I don't like using this books functions\n",
    "        new_pmf.Mult(key, key)\n",
    "        \n",
    "    new_pmf.Normalize() # make sure everything sums to one still\n",
    "    return new_pmf"
   ]
  },
  {
   "cell_type": "code",
   "execution_count": 72,
   "metadata": {
    "collapsed": true
   },
   "outputs": [],
   "source": [
    "resp = nsfg.ReadFemResp() # READFEMALE RESPONSES, NOT PREG DATA\n",
    "pmf = thinkstats2.Pmf(resp.numkdhh, label='Number of kids in home (numkdhh)') # assign actual PMF"
   ]
  },
  {
   "cell_type": "code",
   "execution_count": 73,
   "metadata": {},
   "outputs": [
    {
     "data": {
      "text/plain": [
       "(1.0242051550438309, 2.4036791006642821)"
      ]
     },
     "execution_count": 73,
     "metadata": {},
     "output_type": "execute_result"
    }
   ],
   "source": [
    "biased_num_kids_pmf = biasedpmf(pmf, label='biased')\n",
    "# First will just print the means\n",
    "pmf.Mean(), biased_num_kids_pmf.Mean()"
   ]
  },
  {
   "cell_type": "code",
   "execution_count": 74,
   "metadata": {},
   "outputs": [
    {
     "data": {
      "image/png": "[encoded data removed]",
      "text/plain": [
       "<matplotlib.figure.Figure at 0x1a1d1f2208>"
      ]
     },
     "metadata": {},
     "output_type": "display_data"
    }
   ],
   "source": [
    "thinkplot.PrePlot(2) # we are going to plot 2 pmfs # PMF TAKES 1 ARG, so list\n",
    "thinkplot.Pmfs([pmf, biased_num_kids_pmf])\n",
    "thinkplot.Config(xlabel='Number of Children', ylabel='PMF')"
   ]
  },
  {
   "cell_type": "code",
   "execution_count": 76,
   "metadata": {},
   "outputs": [
    {
     "data": {
      "text/plain": [
       "'Question 3.1 The biased PMF illustrates the general concept of the actual data bias for people to \\nrespond if there are people in the family vs not responding if people are not.  The biased\\nPMF maps closer to the normal average number of kids in the household'"
      ]
     },
     "execution_count": 76,
     "metadata": {},
     "output_type": "execute_result"
    }
   ],
   "source": [
    "\"\"\"Question 3.1 The biased PMF illustrates the general concept of the actual data bias for people to \n",
    "respond if there are people in the family vs not responding if people are not.  The biased\n",
    "PMF maps closer to the normal average number of kids in the household\"\"\""
   ]
  },
  {
   "cell_type": "code",
   "execution_count": 21,
   "metadata": {},
   "outputs": [
    {
     "data": {
      "text/plain": [
       "'Exercise 4.2 The numbers generated by random.random are supposed to be uniform between 0 and 1; that is, every value in the range should have the same probability.\\nGenerate 1000 numbers from random.random and plot their PMF and CDF. Is the distribution uniform?'"
      ]
     },
     "execution_count": 21,
     "metadata": {},
     "output_type": "execute_result"
    }
   ],
   "source": [
    "\"\"\"Exercise 4.2 The numbers generated by random.random are supposed to be uniform between 0 and 1; that is, every value in the range should have the same probability.\n",
    "Generate 1000 numbers from random.random and plot their PMF and CDF. Is the distribution uniform?\"\"\""
   ]
  },
  {
   "cell_type": "code",
   "execution_count": 22,
   "metadata": {},
   "outputs": [
    {
     "data": {
      "text/plain": [
       "\"This questions asks you to examine the function that produces random numbers. Is it really random? A good way to test that is to examine the pmf and cdf of the list of random numbers and visualize the distribution. If you're not sure what pmf is, read more about it in Chapter 3.\""
      ]
     },
     "execution_count": 22,
     "metadata": {},
     "output_type": "execute_result"
    }
   ],
   "source": [
    "\"\"\"This questions asks you to examine the function that produces random numbers. Is it really random? A good way to test that is to examine the pmf and cdf of the list of random numbers and visualize the distribution. If you're not sure what pmf is, read more about it in Chapter 3.\"\"\""
   ]
  },
  {
   "cell_type": "code",
   "execution_count": 23,
   "metadata": {
    "collapsed": true
   },
   "outputs": [],
   "source": [
    "random_nums = np.random.random(1000) # create random nums 1000 times\n",
    "random_nums_pmf = thinkstats2.Pmf(random_nums) # assign PMF\n",
    "random_nums_cdf = thinkstats2.Cdf(random_nums) # assing CDF"
   ]
  },
  {
   "cell_type": "code",
   "execution_count": 24,
   "metadata": {},
   "outputs": [
    {
     "data": {
      "image/png": "[encoded data removed]",
      "text/plain": [
       "<matplotlib.figure.Figure at 0x1045ddb70>"
      ]
     },
     "metadata": {},
     "output_type": "display_data"
    }
   ],
   "source": [
    "thinkplot.Pmf(random_nums_pmf, linewidth=0.1)\n",
    "thinkplot.Config(xlabel='Random Num', ylabel='PMF')"
   ]
  },
  {
   "cell_type": "code",
   "execution_count": 25,
   "metadata": {},
   "outputs": [
    {
     "data": {
      "image/png": "[encoded data removed]",
      "text/plain": [
       "<matplotlib.figure.Figure at 0x1a1d1d8ac8>"
      ]
     },
     "metadata": {},
     "output_type": "display_data"
    }
   ],
   "source": [
    "thinkplot.Cdf(random_nums_cdf)\n",
    "thinkplot.Config(xlabel='Random Nums', ylabel='CDF')"
   ]
  },
  {
   "cell_type": "code",
   "execution_count": 26,
   "metadata": {},
   "outputs": [
    {
     "data": {
      "text/plain": [
       "{'xscale': 'linear', 'yscale': 'linear'}"
      ]
     },
     "execution_count": 26,
     "metadata": {},
     "output_type": "execute_result"
    },
    {
     "data": {
      "image/png": "[encoded data removed]",
      "text/plain": [
       "<matplotlib.figure.Figure at 0x1a1af63c88>"
      ]
     },
     "metadata": {},
     "output_type": "display_data"
    }
   ],
   "source": [
    "thinkplot.Cdf(random_nums_pmf)"
   ]
  },
  {
   "cell_type": "code",
   "execution_count": 27,
   "metadata": {},
   "outputs": [
    {
     "data": {
      "image/png": "[encoded data removed]",
      "text/plain": [
       "<matplotlib.figure.Figure at 0x1a1d1517b8>"
      ]
     },
     "metadata": {},
     "output_type": "display_data"
    }
   ],
   "source": [
    "thinkplot.Pmf(random_nums_cdf)"
   ]
  },
  {
   "cell_type": "code",
   "execution_count": 28,
   "metadata": {},
   "outputs": [
    {
     "data": {
      "image/png": "[encoded data removed]",
      "text/plain": [
       "<matplotlib.figure.Figure at 0x1a1d08a390>"
      ]
     },
     "metadata": {},
     "output_type": "display_data"
    }
   ],
   "source": [
    "thinkplot.Cdfs([random_nums_cdf, random_nums_pmf])"
   ]
  },
  {
   "cell_type": "code",
   "execution_count": 29,
   "metadata": {},
   "outputs": [
    {
     "data": {
      "text/plain": [
       "1000"
      ]
     },
     "execution_count": 29,
     "metadata": {},
     "output_type": "execute_result"
    }
   ],
   "source": [
    "len(random_nums_cdf)"
   ]
  },
  {
   "cell_type": "code",
   "execution_count": null,
   "metadata": {
    "collapsed": true
   },
   "outputs": [],
   "source": []
  },
  {
   "cell_type": "code",
   "execution_count": 77,
   "metadata": {},
   "outputs": [
    {
     "data": {
      "text/plain": [
       "\"Question 4.2 PMFs tell us the probability that a item in the distribution IS a certain value, where a CDF \\ntells us the probability (of sorts, percentile really) that a value is <= a certain value.\\nThis random number generator isn't really random - it assigns as 1/N\\nprobabilty to each number in the distribution - in this case thinkplot.Cdf(random_nums_pmf)\\nshows this value.\""
      ]
     },
     "execution_count": 77,
     "metadata": {},
     "output_type": "execute_result"
    }
   ],
   "source": [
    "\"\"\"Question 4.2 PMFs tell us the probability that a item in the distribution IS a certain value, where a CDF \n",
    "tells us the probability (of sorts, percentile really) that a value is <= a certain value.\n",
    "This random number generator isn't really random - it assigns as 1/N\n",
    "probabilty to each number in the distribution - in this case thinkplot.Cdf(random_nums_pmf)\n",
    "shows this value.\"\"\""
   ]
  },
  {
   "cell_type": "code",
   "execution_count": 31,
   "metadata": {},
   "outputs": [
    {
     "data": {
      "text/plain": [
       "'Exercise 5.1 In the BRFSS (see Section 5.4), the distribution of heights is roughly normal with parameters μ = 178 cm and σ = 7.7 cm for men, and μ = 163 cm and σ = 7.3 cm for women.\\nIn order to join Blue Man Group, you have to be male between 5’10” and 6’1” (see http://bluemancasting.com). What percentage of the U.S. male population is in this range? Hint: use scipy.stats.norm.cdf.'"
      ]
     },
     "execution_count": 31,
     "metadata": {},
     "output_type": "execute_result"
    }
   ],
   "source": [
    "\"\"\"Exercise 5.1 In the BRFSS (see Section 5.4), the distribution of heights is roughly normal with parameters μ = 178 cm and σ = 7.7 cm for men, and μ = 163 cm and σ = 7.3 cm for women.\n",
    "In order to join Blue Man Group, you have to be male between 5’10” and 6’1” (see http://bluemancasting.com). What percentage of the U.S. male population is in this range? Hint: use scipy.stats.norm.cdf.\"\"\""
   ]
  },
  {
   "cell_type": "code",
   "execution_count": null,
   "metadata": {
    "collapsed": true
   },
   "outputs": [],
   "source": [
    "# Modeling Distributions - we are given mu = 178 and sigma = 7.7 for me - for the normal population\n",
    "# but to join the blue man group you must be between 5/10// to 6/1//"
   ]
  },
  {
   "cell_type": "code",
   "execution_count": 36,
   "metadata": {
    "collapsed": true
   },
   "outputs": [],
   "source": [
    "import scipy.stats as stats\n",
    "mu = 178\n",
    "sigma = 7.7"
   ]
  },
  {
   "cell_type": "code",
   "execution_count": 37,
   "metadata": {
    "collapsed": true
   },
   "outputs": [],
   "source": [
    "def feet_to_cm(ft, inch):\n",
    "    cm_in_ft = 30.48\n",
    "    inches_to_cm = (inch/12.0)\n",
    "    feet_to_cm = (ft + inches_to_cm) * cm_in_ft\n",
    "    return feet_to_cm"
   ]
  },
  {
   "cell_type": "code",
   "execution_count": 38,
   "metadata": {},
   "outputs": [
    {
     "data": {
      "text/plain": [
       "177.79999999999998"
      ]
     },
     "execution_count": 38,
     "metadata": {},
     "output_type": "execute_result"
    }
   ],
   "source": [
    "feet_to_cm(5, 10)"
   ]
  },
  {
   "cell_type": "code",
   "execution_count": 46,
   "metadata": {},
   "outputs": [
    {
     "data": {
      "text/plain": [
       "(178.0,\n",
       " 59.290000000000006,\n",
       " 7.7000000000000002,\n",
       " scipy.stats._distn_infrastructure.rv_frozen)"
      ]
     },
     "execution_count": 46,
     "metadata": {},
     "output_type": "execute_result"
    }
   ],
   "source": [
    "normal = stats.norm(mu, sigma) # Makes a normal distribution using mu and sigma with scipy and\n",
    "                               # assigns to normal, normal can call the scipy functions now\n",
    "                               # though I know very little about this at this point.\n",
    "normal.mean(), normal.var(), normal.std(), type(normal)"
   ]
  },
  {
   "cell_type": "code",
   "execution_count": 56,
   "metadata": {},
   "outputs": [
    {
     "name": "stdout",
     "output_type": "stream",
     "text": [
      "['__class__', '__delattr__', '__dict__', '__dir__', '__doc__', '__eq__', '__format__', '__ge__', '__getattribute__', '__gt__', '__hash__', '__init__', '__init_subclass__', '__le__', '__lt__', '__module__', '__ne__', '__new__', '__reduce__', '__reduce_ex__', '__repr__', '__setattr__', '__sizeof__', '__str__', '__subclasshook__', '__weakref__', 'a', 'args', 'b', 'cdf', 'dist', 'entropy', 'expect', 'interval', 'isf', 'kwds', 'logcdf', 'logpdf', 'logpmf', 'logsf', 'mean', 'median', 'moment', 'pdf', 'pmf', 'ppf', 'random_state', 'rvs', 'sf', 'stats', 'std', 'var'] "
     ]
    }
   ],
   "source": [
    "print(dir(normal), end=' ') # METHODS FOR SCIPY NORMAL"
   ]
  },
  {
   "cell_type": "code",
   "execution_count": 57,
   "metadata": {
    "collapsed": true
   },
   "outputs": [],
   "source": [
    "blue_height_min = feet_to_cm(5, 10)\n",
    "blue_height_max = feet_to_cm(6, 1)"
   ]
  },
  {
   "cell_type": "code",
   "execution_count": 58,
   "metadata": {},
   "outputs": [
    {
     "data": {
      "text/plain": [
       "0.15865525393145741"
      ]
     },
     "execution_count": 58,
     "metadata": {},
     "output_type": "execute_result"
    }
   ],
   "source": [
    "normal.cdf(mu-sigma) # % of people more than 1 stdv below the mean 178, 15.8%"
   ]
  },
  {
   "cell_type": "code",
   "execution_count": 59,
   "metadata": {},
   "outputs": [
    {
     "data": {
      "text/plain": [
       "0.84134474606854259"
      ]
     },
     "execution_count": 59,
     "metadata": {},
     "output_type": "execute_result"
    }
   ],
   "source": [
    "normal.cdf(mu+sigma) # % of people less than one stdv above the mean 178, 84.1%"
   ]
  },
  {
   "cell_type": "code",
   "execution_count": 60,
   "metadata": {},
   "outputs": [
    {
     "data": {
      "text/plain": [
       "0.68268949213708519"
      ]
     },
     "execution_count": 60,
     "metadata": {},
     "output_type": "execute_result"
    }
   ],
   "source": [
    "normal.cdf(mu+sigma) - normal.cdf(mu-sigma)# should be 1 stdv diff"
   ]
  },
  {
   "cell_type": "code",
   "execution_count": 61,
   "metadata": {},
   "outputs": [
    {
     "data": {
      "text/plain": [
       "0.9544997361036418"
      ]
     },
     "execution_count": 61,
     "metadata": {},
     "output_type": "execute_result"
    }
   ],
   "source": [
    "normal.cdf(mu+2*sigma) - normal.cdf(mu-2*sigma) # 2 stdev"
   ]
  },
  {
   "cell_type": "code",
   "execution_count": 62,
   "metadata": {},
   "outputs": [
    {
     "data": {
      "text/plain": [
       "0.99730020393673979"
      ]
     },
     "execution_count": 62,
     "metadata": {},
     "output_type": "execute_result"
    }
   ],
   "source": [
    "normal.cdf(mu+3*sigma) - normal.cdf(mu-3*sigma) # 3 stdev"
   ]
  },
  {
   "cell_type": "code",
   "execution_count": 63,
   "metadata": {},
   "outputs": [
    {
     "data": {
      "text/plain": [
       "(0.48963902786483121, 0.83238586549630633, 0.34274683763147512)"
      ]
     },
     "execution_count": 63,
     "metadata": {},
     "output_type": "execute_result"
    }
   ],
   "source": [
    "normal.cdf(blue_height_min), normal.cdf(blue_height_max), normal.cdf(blue_height_max) - normal.cdf(blue_height_min)"
   ]
  },
  {
   "cell_type": "code",
   "execution_count": 67,
   "metadata": {},
   "outputs": [
    {
     "data": {
      "text/plain": [
       "0.33994265450561006"
      ]
     },
     "execution_count": 67,
     "metadata": {},
     "output_type": "execute_result"
    }
   ],
   "source": [
    "(normal.cdf(mu+sigma) - normal.cdf(mu-sigma)) - (normal.cdf(blue_height_max)-normal.cdf(blue_height_min))"
   ]
  },
  {
   "cell_type": "code",
   "execution_count": 78,
   "metadata": {},
   "outputs": [
    {
     "data": {
      "text/plain": [
       "'Question 5.1 To answer, ~34.275% of the adult male population could be in the blueman group, their\\nlower end range is quite a bit higher than the first stdev from the mean to the smaller\\nheight, but about in line with the upper bound for the stdev. I guess they are technically\\nremoving 34% of a single stdev from the mean from their population. But anyone only people \\ninside one stdev of the mean can be in blueman group.'"
      ]
     },
     "execution_count": 78,
     "metadata": {},
     "output_type": "execute_result"
    }
   ],
   "source": [
    "'''Question 5.1 To answer, ~34.275% of the adult male population could be in the blueman group, their\n",
    "lower end range is quite a bit higher than the first stdev from the mean to the smaller\n",
    "height, but about in line with the upper bound for the stdev. I guess they are technically\n",
    "removing 34% of a single stdev from the mean from their population. But anyone only people \n",
    "inside one stdev of the mean can be in blueman group.'''"
   ]
  },
  {
   "cell_type": "code",
   "execution_count": null,
   "metadata": {
    "collapsed": true
   },
   "outputs": [],
   "source": []
  }
 ],
 "metadata": {
  "kernelspec": {
   "display_name": "Python 3",
   "language": "python",
   "name": "python3"
  },
  "language_info": {
   "codemirror_mode": {
    "name": "ipython",
    "version": 3
   },
   "file_extension": ".py",
   "mimetype": "text/x-python",
   "name": "python",
   "nbconvert_exporter": "python",
   "pygments_lexer": "ipython3",
   "version": "3.6.3"
  }
 },
 "nbformat": 4,
 "nbformat_minor": 2
}
